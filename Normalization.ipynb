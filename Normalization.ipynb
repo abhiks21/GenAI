{
  "nbformat": 4,
  "nbformat_minor": 0,
  "metadata": {
    "colab": {
      "provenance": [],
      "authorship_tag": "ABX9TyO/B4z8Hi2TE9rQLdUY1WKV",
      "include_colab_link": true
    },
    "kernelspec": {
      "name": "python3",
      "display_name": "Python 3"
    },
    "language_info": {
      "name": "python"
    }
  },
  "cells": [
    {
      "cell_type": "markdown",
      "metadata": {
        "id": "view-in-github",
        "colab_type": "text"
      },
      "source": [
        "<a href=\"https://colab.research.google.com/github/abhiks21/GenAI/blob/main/Normalization.ipynb\" target=\"_parent\"><img src=\"https://colab.research.google.com/assets/colab-badge.svg\" alt=\"Open In Colab\"/></a>"
      ]
    },
    {
      "cell_type": "markdown",
      "source": [
        "### Normalization"
      ],
      "metadata": {
        "id": "-0r_h9v15C_4"
      }
    },
    {
      "cell_type": "code",
      "execution_count": 2,
      "metadata": {
        "colab": {
          "base_uri": "https://localhost:8080/"
        },
        "id": "FiQr2kcs4-4q",
        "outputId": "1c6de9ae-21da-41af-db4c-a8df9009548d"
      },
      "outputs": [
        {
          "output_type": "stream",
          "name": "stdout",
          "text": [
            "original data: [   10    20    30    40    50 10000]\n",
            "min_max scaled data: [0.       0.001001 0.002002 0.003003 0.004004 1.      ]\n",
            "z_score data: [-0.45259357 -0.44990224 -0.4472109  -0.44451956 -0.44182822  2.23605448]\n"
          ]
        }
      ],
      "source": [
        "import numpy as np\n",
        "\n",
        "data=np.array([10,20,30,40,50,10000])\n",
        "\n",
        "def min_max_scaling(data):\n",
        "  min_val=np.min(data)\n",
        "  max_val=np.max(data)\n",
        "  return (data-min_val)/(max_val-min_val)\n",
        "def z_score_scaling(data):\n",
        "  mean=np.mean(data)\n",
        "  std=np.std(data)\n",
        "  return (data-mean)/std\n",
        "\n",
        "min_max_scaled=min_max_scaling(data)\n",
        "z_score_scaled=z_score_scaling(data)\n",
        "\n",
        "print(f\"original data: {data}\")\n",
        "print(f\"min_max scaled data: {min_max_scaled}\")\n",
        "print(f\"z_score data: {z_score_scaled}\")"
      ]
    },
    {
      "cell_type": "code",
      "source": [
        "!git config --global user.name \"abhiks21\"\n",
        "!git config --global user.email \"abhishek12cls@gmail.com\"\n"
      ],
      "metadata": {
        "id": "otP76g017dqG"
      },
      "execution_count": 3,
      "outputs": []
    },
    {
      "cell_type": "code",
      "source": [
        "!git clone https://github.com/abhiks21/GenAI.git\n"
      ],
      "metadata": {
        "colab": {
          "base_uri": "https://localhost:8080/"
        },
        "id": "hG8-oPOe7p6u",
        "outputId": "6c2e740d-7e39-41a4-a3f1-95a8d824efa0"
      },
      "execution_count": 4,
      "outputs": [
        {
          "output_type": "stream",
          "name": "stdout",
          "text": [
            "Cloning into 'GenAI'...\n",
            "remote: Enumerating objects: 6, done.\u001b[K\n",
            "remote: Counting objects: 100% (6/6), done.\u001b[K\n",
            "remote: Compressing objects: 100% (5/5), done.\u001b[K\n",
            "remote: Total 6 (delta 0), reused 0 (delta 0), pack-reused 0 (from 0)\u001b[K\n",
            "Receiving objects: 100% (6/6), 36.24 KiB | 18.12 MiB/s, done.\n"
          ]
        }
      ]
    },
    {
      "cell_type": "code",
      "source": [
        "!mv Normalization.ipynb GenAI/\n"
      ],
      "metadata": {
        "colab": {
          "base_uri": "https://localhost:8080/"
        },
        "id": "e4qneo1I73c5",
        "outputId": "ff96ed8f-ce66-487a-8bb3-e5acb2dd88c4"
      },
      "execution_count": 6,
      "outputs": [
        {
          "output_type": "stream",
          "name": "stdout",
          "text": [
            "mv: cannot stat 'Normalization.ipynb': No such file or directory\n"
          ]
        }
      ]
    },
    {
      "cell_type": "code",
      "source": [
        "!ls\n"
      ],
      "metadata": {
        "colab": {
          "base_uri": "https://localhost:8080/"
        },
        "id": "0glggu7a8su8",
        "outputId": "a5891fd5-fa59-4b3b-acb9-5d79b7707c5d"
      },
      "execution_count": 7,
      "outputs": [
        {
          "output_type": "stream",
          "name": "stdout",
          "text": [
            "GenAI  sample_data\n"
          ]
        }
      ]
    },
    {
      "cell_type": "code",
      "source": [
        "!mv \"/content/drive/MyDrive/Colab Notebooks/Normalization.ipynb\" /content/GenAI/\n"
      ],
      "metadata": {
        "colab": {
          "base_uri": "https://localhost:8080/"
        },
        "id": "68Yaocfk9A4T",
        "outputId": "fa60376e-b3f2-4d03-b4fa-392415a32640"
      },
      "execution_count": 8,
      "outputs": [
        {
          "output_type": "stream",
          "name": "stdout",
          "text": [
            "mv: cannot stat '/content/drive/MyDrive/Colab Notebooks/Normalization.ipynb': No such file or directory\n"
          ]
        }
      ]
    },
    {
      "cell_type": "code",
      "source": [
        "!find /content -name \"Normalization*.ipynb\"\n"
      ],
      "metadata": {
        "id": "lScpEPQj9H8T"
      },
      "execution_count": 10,
      "outputs": []
    }
  ]
}